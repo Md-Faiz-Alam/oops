{
  "nbformat": 4,
  "nbformat_minor": 0,
  "metadata": {
    "colab": {
      "provenance": []
    },
    "kernelspec": {
      "name": "python3",
      "display_name": "Python 3"
    },
    "language_info": {
      "name": "python"
    }
  },
  "cells": [
    {
      "cell_type": "markdown",
      "source": [
        "---\n",
        "# Theoretical Answers of OOPs.\n",
        "---\n",
        "## 1. What is Object-Oriented Programming (OOP)?\n",
        "OOP is a programming paradigm based on the concept of objects, which encapsulate data (attributes) and behaviors (methods) to model real-world entities.\n",
        "\n",
        "---\n",
        "## 2. What is a class in OOP?\n",
        "A class is a blueprint or template for creating objects. It defines the attributes and methods that the objects created from the class will have.\n",
        "\n",
        "---\n",
        "## 3. What is an object in OOP?\n",
        "An object is an instance of a class. It represents a specific entity with defined attributes (data) and behaviors (methods).\n",
        "\n",
        "---\n",
        "## 4. What is the difference between abstraction and encapsulation?\n",
        "-> Abstraction: Hiding implementation details and showing only\n",
        "  essential features (e.g., interfaces, abstract classes).\n",
        "\n",
        "-> Encapsulation: Bundling data and methods together,\n",
        "   restricting direct access to some components (e.g., private variables).\n",
        "\n",
        "---\n",
        "## 5. What are dunder methods in Python?\n",
        "Dunder (double underscore) methods, like __init__, __str__, and __add__, are special methods in Python used to define custom behavior for built-in operations.\n",
        "\n",
        "---\n",
        "## 6. Explain the concept of inheritance in OOP.\n",
        "Inheritance allows one class (child) to inherit attributes and methods from another class (parent), promoting code reuse and hierarchy.\n",
        "\n",
        "---\n",
        "## 7. What is polymorphism in OOP?\n",
        "Polymorphism allows objects of different classes to be treated as objects of a common superclass, enabling the same interface to behave differently depending on the object.\n",
        "\n",
        "---\n",
        "## 8. How is encapsulation achieved in Python?\n",
        "Encapsulation is achieved using access specifiers:\n",
        "\n",
        "Public (name)                                  \n",
        "Protected (_name)                                    \n",
        "Private (__name)\n",
        "\n",
        "---\n",
        "## 9. What is a constructor in Python?\n",
        "A constructor (__init__) is a special method that initializes an object's attributes when it is created.\n",
        "\n",
        "---\n",
        "## 10. What are class and static methods in Python?\n",
        "-> Class methods: Defined with @classmethod, they operate on\n",
        "   the class, not instance, and take cls as the first parameter.  \n",
        "-> Static methods: Defined with @staticmethod, they don't\n",
        "   operate on the instance or class and have no implicit first parameter.\n",
        "\n",
        "---\n",
        "## 11. What is method overloading in Python?\n",
        "Python doesn’t support method overloading directly, but it can be emulated using default arguments or by manually handling different parameter type\n",
        "\n",
        "---\n",
        "## 12. What is method overriding in OOP?\n",
        "Method overriding allows a child class to redefine a method from the parent class, providing a specific implementation for the child.\n",
        "\n",
        "---\n",
        "## 13. What is a property decorator in Python?\n",
        "The @property decorator converts a method into a read-only attribute, allowing controlled access to an attribute-like property.\n",
        "\n",
        "---\n",
        "## 14. Why is polymorphism important in OOP?\n",
        "Polymorphism enhances flexibility and maintainability by allowing a single interface to work with objects of different types.\n",
        "\n",
        "---\n",
        "## 15. What is an abstract class in Python?\n",
        "An abstract class defined with the abc module, serves as a blueprint for other classes. It can have abstract methods (methods without implementation) and concrete methods.\n",
        "\n",
        "---\n",
        "## 16. What are the advantages of OOP?\n",
        "-> Code reusability through inheritance\n",
        "-> Modularity and organization\n",
        "-> Scalability and flexibility                      \n",
        "-> Easier maintenance through encapsulation\n",
        "\n",
        "---\n",
        "## 17. What is the difference between a class variable and an instance variable?\n",
        "-> Class variable: Shared by all instances of the           class.         \n",
        "-> Instance variable: Unique to each object, defined inside  \n",
        "   the constructor.\n",
        "\n",
        "---\n",
        "## 18. What is multiple inheritance in Python?\n",
        "Multiple inheritance allows a class to inherit from more than one parent class, combining their attributes and methods.\n",
        "\n",
        "---\n",
        "## 19. Explain the purpose of ‘’__str__’ and ‘__repr__’ ‘ methods in Python.\n",
        "__str__: Returns a user-friendly string representation of an object.     \n",
        "__repr__: Returns a developer-oriented representation for debugging.\n",
        "\n",
        "---\n",
        "## 20. What is the significance of the ‘super()’ function in Python?\n",
        "The super() function is used to call a method from the parent class, commonly in inheritance to initialize attributes or override methods.\n",
        "\n",
        "---\n",
        "## 21. What is the significance of the __del__ method in Python?\n",
        "The __del__ method is a destructor, called when an object is about to be destroyed, to release resources or perform cleanup.\n",
        "\n",
        "---\n",
        "## 22. What is the difference between @staticmethod and @classmethod in Python?\n",
        "@staticmethod: Does not access the class or instance, used for utility functions.                         \n",
        "@classmethod: Works with the class itself and modifies class-level data.\n",
        "\n",
        "---\n",
        "## 23. How does polymorphism work in Python with inheritance?\n",
        "Polymorphism in Python allows methods in child classes to override parent methods and lets the same function or method work differently based on the object it’s called on.\n",
        "\n",
        "---\n",
        "## 24. What is method chaining in Python OOP?\n",
        "Method chaining allows multiple methods to be called on the same object sequentially, returning self for each method.\n",
        "\n",
        "---\n",
        "## 25. What is the purpose of the __call__ method in Python?\n",
        "The __call__ method allows an object to be called like a function, enabling instances of a class to behave like callable objects.\n",
        "\n",
        "---"
      ],
      "metadata": {
        "id": "WiQXq7Uh4YHo"
      }
    },
    {
      "cell_type": "markdown",
      "source": [
        "---\n",
        "# Practical Answers :-\n",
        "---\n",
        "### 1. Create a parent class Animal with a method speak() that prints a generic message. Create a child class Dog that overrides the speak() method to print \"Bark!\"."
      ],
      "metadata": {
        "id": "_MHT_Rj6GqhK"
      }
    },
    {
      "cell_type": "code",
      "source": [
        "class Animal:\n",
        "    def speak(self):\n",
        "        print(\"Animal speaks\")\n",
        "\n",
        "class Dog(Animal):\n",
        "    def speak(self):\n",
        "        print(\"Bark!\")\n",
        "\n",
        "dog = Dog()\n",
        "dog.speak()"
      ],
      "metadata": {
        "id": "ukuYCYMUGbXT"
      },
      "execution_count": null,
      "outputs": []
    },
    {
      "cell_type": "markdown",
      "source": [
        "### 2. Write a program to create an abstract class Shape with a method area(). Derive classes Circle and Rectangle from it and implement the area() method in both."
      ],
      "metadata": {
        "id": "EL0m1mYFI2-f"
      }
    },
    {
      "cell_type": "code",
      "source": [
        "from abc import ABC, abstractmethod\n",
        "import math\n",
        "\n",
        "class Shape(ABC):\n",
        "    @abstractmethod\n",
        "    def area(self):\n",
        "        pass\n",
        "\n",
        "class Circle(Shape):\n",
        "    def __init__(self, radius):\n",
        "        self.radius = radius\n",
        "\n",
        "    def area(self):\n",
        "        return math.pi * (self.radius ** 2)\n",
        "\n",
        "class Rectangle(Shape):\n",
        "    def __init__(self, width, height):\n",
        "        self.width = width\n",
        "        self.height = height\n",
        "\n",
        "    def area(self):\n",
        "        return self.width * self.height\n",
        "\n",
        "circle = Circle(5)\n",
        "rectangle = Rectangle(4, 6)\n",
        "\n",
        "print(f\"Circle area: {circle.area()}\")\n",
        "print(f\"Rectangle area: {rectangle.area()}\")"
      ],
      "metadata": {
        "id": "6RWHoSv6JBJ9"
      },
      "execution_count": null,
      "outputs": []
    },
    {
      "cell_type": "markdown",
      "source": [
        "### 3. Implement a multi-level inheritance scenario where a class Vehicle has an attribute type. Derive a class Car and further derive a class ElectricCar that adds a battery attribute."
      ],
      "metadata": {
        "id": "Zcv8LM7mJaxV"
      }
    },
    {
      "cell_type": "code",
      "source": [
        "class Vehicle:\n",
        "    def __init__(self, vehicle_type):\n",
        "        self.vehicle_type = vehicle_type\n",
        "\n",
        "class Car(Vehicle):\n",
        "    def __init__(self, vehicle_type, model):\n",
        "        super().__init__(vehicle_type)\n",
        "        self.model = model\n",
        "\n",
        "class ElectricCar(Car):\n",
        "    def __init__(self, vehicle_type, model, battery):\n",
        "        super().__init__(vehicle_type, model)\n",
        "        self.battery = battery\n",
        "\n",
        "ecar = ElectricCar(\"Electric\", \"Tesla\", \"100 kWh\")\n",
        "print(f\"Vehicle Type: {ecar.vehicle_type}, Model: {ecar.model}, Battery: {ecar.battery}\")"
      ],
      "metadata": {
        "id": "adhqRs9xJlmM"
      },
      "execution_count": null,
      "outputs": []
    },
    {
      "cell_type": "markdown",
      "source": [
        "### 4.  Implement a multi-level inheritance scenario where a class Vehicle has an attribute type. Derive a class Car and further derive a class ElectricCar that adds a battery attribute."
      ],
      "metadata": {
        "id": "-nkBqoO7J1_q"
      }
    },
    {
      "cell_type": "code",
      "source": [
        "class Vehicle:\n",
        "    def __init__(self, vehicle_type):\n",
        "        self.vehicle_type = vehicle_type\n",
        "\n",
        "class Car(Vehicle):\n",
        "    def __init__(self, vehicle_type, model):\n",
        "        super().__init__(vehicle_type)\n",
        "        self.model = model\n",
        "\n",
        "class ElectricCar(Car):\n",
        "    def __init__(self, vehicle_type, model, battery):\n",
        "        super().__init__(vehicle_type, model)\n",
        "        self.battery = battery\n",
        "\n",
        "ecar = ElectricCar(\"Electric\", \"Tesla\", \"100 kWh\")\n",
        "print(f\"Vehicle Type: {ecar.vehicle_type}, Model: {ecar.model}, Battery: {ecar.battery}\")"
      ],
      "metadata": {
        "id": "N7xtwgn7J-Rr"
      },
      "execution_count": null,
      "outputs": []
    },
    {
      "cell_type": "markdown",
      "source": [
        "### 5. Write a program to demonstrate encapsulation by creating a class BankAccount with private attributes balance and methods to deposit, withdraw, and check balance."
      ],
      "metadata": {
        "id": "jeRGgJ3VKIFj"
      }
    },
    {
      "cell_type": "code",
      "source": [
        "class BankAccount:\n",
        "    def __init__(self, balance):\n",
        "        self.__balance = balance\n",
        "\n",
        "    def deposit(self, amount):\n",
        "        self.__balance += amount\n",
        "\n",
        "    def withdraw(self, amount):\n",
        "        if amount > self.__balance:\n",
        "            print(\"Insufficient balance!\")\n",
        "        else:\n",
        "            self.__balance -= amount\n",
        "\n",
        "    def check_balance(self):\n",
        "        return self.__balance\n",
        "\n",
        "account = BankAccount(1000)\n",
        "account.deposit(500)\n",
        "account.withdraw(300)\n",
        "print(f\"Balance: {account.check_balance()}\")"
      ],
      "metadata": {
        "id": "Cze-Yq3JKRaK"
      },
      "execution_count": null,
      "outputs": []
    },
    {
      "cell_type": "markdown",
      "source": [
        "### 6.  Demonstrate runtime polymorphism using a method play() in a base class Instrument. Derive classes Guitar and Piano that implement their own version of play().\n",
        "\n",
        "\n"
      ],
      "metadata": {
        "id": "nUTcySi1KZ86"
      }
    },
    {
      "cell_type": "code",
      "source": [
        "class Instrument:\n",
        "    def play(self):\n",
        "        pass\n",
        "\n",
        "class Guitar(Instrument):\n",
        "    def play(self):\n",
        "        print(\"Playing the guitar\")\n",
        "\n",
        "class Piano(Instrument):\n",
        "    def play(self):\n",
        "        print(\"Playing the piano\")\n",
        "\n",
        "guitar = Guitar()\n",
        "piano = Piano()\n",
        "\n",
        "guitar.play()\n",
        "piano.play()"
      ],
      "metadata": {
        "id": "6Iz0GKHJKgOq"
      },
      "execution_count": null,
      "outputs": []
    },
    {
      "cell_type": "markdown",
      "source": [
        "### 7. Create a class MathOperations with a class method add_numbers() to add two numbers and a static method subtract_numbers() to subtract two numbers"
      ],
      "metadata": {
        "id": "1YycNjm3KnWz"
      }
    },
    {
      "cell_type": "code",
      "source": [
        "class MathOperations:\n",
        "    @classmethod\n",
        "    def add_numbers(cls, a, b):\n",
        "        return a + b\n",
        "\n",
        "    @staticmethod\n",
        "    def subtract_numbers(a, b):\n",
        "        return a - b\n",
        "\n",
        "print(MathOperations.add_numbers(10, 5))\n",
        "print(MathOperations.subtract_numbers(10, 5))"
      ],
      "metadata": {
        "id": "OtrR-lGdKuri"
      },
      "execution_count": null,
      "outputs": []
    },
    {
      "cell_type": "markdown",
      "source": [
        "### 8. Implement a class Person with a class method to count the total number of persons created."
      ],
      "metadata": {
        "id": "_PFiNAw8K3Dq"
      }
    },
    {
      "cell_type": "code",
      "source": [
        "class Person:\n",
        "    count = 0\n",
        "\n",
        "    def __init__(self, name):\n",
        "        self.name = name\n",
        "        Person.count += 1\n",
        "\n",
        "    @classmethod\n",
        "    def total_persons(cls):\n",
        "        return cls.count\n",
        "\n",
        "p1 = Person(\"Faiz\")\n",
        "p2 = Person(\"Alam\")\n",
        "print(f\"Total persons: {Person.total_persons()}\")"
      ],
      "metadata": {
        "id": "W6yaEgOtK_tp"
      },
      "execution_count": null,
      "outputs": []
    },
    {
      "cell_type": "markdown",
      "source": [
        "### 9. Write a class Fraction with attributes numerator and denominator. Override the str method to display the fraction as \"numerator/denominator\"."
      ],
      "metadata": {
        "id": "971XBHp5LQlh"
      }
    },
    {
      "cell_type": "code",
      "source": [
        "class Fraction:\n",
        "    def __init__(self, numerator, denominator):\n",
        "        self.numerator = numerator\n",
        "        self.denominator = denominator\n",
        "\n",
        "    def __str__(self):\n",
        "        return f\"{self.numerator}/{self.denominator}\"\n",
        "\n",
        "fraction = Fraction(3, 4)\n",
        "print(fraction)"
      ],
      "metadata": {
        "id": "gBvHeJ_PLYJw"
      },
      "execution_count": null,
      "outputs": []
    },
    {
      "cell_type": "markdown",
      "source": [
        "### 10. Demonstrate operator overloading by creating a class Vector and overriding the add method to add two vectors."
      ],
      "metadata": {
        "id": "HSXH7rtmLfjA"
      }
    },
    {
      "cell_type": "code",
      "source": [
        "class Vector:\n",
        "    def __init__(self, x, y):\n",
        "        self.x = x\n",
        "        self.y = y\n",
        "\n",
        "    def __add__(self, other):\n",
        "        return Vector(self.x + other.x, self.y + other.y)\n",
        "\n",
        "    def __str__(self):\n",
        "        return f\"({self.x}, {self.y})\"\n",
        "\n",
        "v1 = Vector(1, 2)\n",
        "v2 = Vector(3, 4)\n",
        "v3 = v1 + v2\n",
        "print(v3)"
      ],
      "metadata": {
        "id": "0BZ-vEVsLpjI"
      },
      "execution_count": null,
      "outputs": []
    },
    {
      "cell_type": "markdown",
      "source": [
        "### 11.  Create a class Person with attributes name and age. Add a method greet() that prints \"Hello, my name is {name} and I am {age} years old.\""
      ],
      "metadata": {
        "id": "y6arBCVjLv6n"
      }
    },
    {
      "cell_type": "code",
      "source": [
        "class Person:\n",
        "    def __init__(self, name, age):\n",
        "        self.name = name\n",
        "        self.age = age\n",
        "\n",
        "    def greet(self):\n",
        "        print(f\"Hello, my name is {self.name} and I am {self.age} years old.\")\n",
        "\n",
        "person = Person(\"Faiz\", 20)\n",
        "person.greet()"
      ],
      "metadata": {
        "id": "hoI7_wJDMbGm"
      },
      "execution_count": null,
      "outputs": []
    },
    {
      "cell_type": "markdown",
      "source": [
        "### 12. Implement a class Student with attributes name and grades. Create a method average_grade() to compute the average of the grades."
      ],
      "metadata": {
        "id": "x336EAPhMqRX"
      }
    },
    {
      "cell_type": "code",
      "source": [
        "class Student:\n",
        "    def __init__(self, name, grades):\n",
        "        self.name = name\n",
        "        self.grades = grades\n",
        "\n",
        "    def average_grade(self):\n",
        "        return sum(self.grades) / len(self.grades)\n",
        "\n",
        "student = Student(\"Emma\", [90, 85, 88, 92])\n",
        "print(f\"Average grade: {student.average_grade()}\")"
      ],
      "metadata": {
        "id": "IuUC_AjrM2QN"
      },
      "execution_count": null,
      "outputs": []
    },
    {
      "cell_type": "markdown",
      "source": [
        "### 13.  Create a class Rectangle with methods set_dimensions() to set the dimensions and area() to calculate the area."
      ],
      "metadata": {
        "id": "C4JGB7D6M7xl"
      }
    },
    {
      "cell_type": "code",
      "source": [
        "class Rectangle:\n",
        "    def __init__(self):\n",
        "        self.width = 0\n",
        "        self.height = 0\n",
        "\n",
        "    def set_dimensions(self, width, height):\n",
        "        self.width = width\n",
        "        self.height = height\n",
        "\n",
        "    def area(self):\n",
        "        return self.width * self.height\n",
        "\n",
        "rect = Rectangle()\n",
        "rect.set_dimensions(5, 6)\n",
        "print(f\"Area: {rect.area()}\")"
      ],
      "metadata": {
        "id": "uazeMRFFNCC9"
      },
      "execution_count": null,
      "outputs": []
    },
    {
      "cell_type": "markdown",
      "source": [
        "### 14. Create a class Employee with a method calculate_salary() that computes the salary based on hours worked and hourly rate. Create a derived class Manager that adds a bonus to the salary.\n"
      ],
      "metadata": {
        "id": "nH5i3pCsNOYc"
      }
    },
    {
      "cell_type": "code",
      "source": [
        "class Employee:\n",
        "    def __init__(self, hours_worked, hourly_rate):\n",
        "        self.hours_worked = hours_worked\n",
        "        self.hourly_rate = hourly_rate\n",
        "\n",
        "    def calculate_salary(self):\n",
        "        return self.hours_worked * self.hourly_rate\n",
        "\n",
        "class Manager(Employee):\n",
        "    def __init__(self, hours_worked, hourly_rate, bonus):\n",
        "        super().__init__(hours_worked, hourly_rate)\n",
        "        self.bonus = bonus\n",
        "\n",
        "    def calculate_salary(self):\n",
        "        return super().calculate_salary() + self.bonus\n",
        "\n",
        "manager = Manager(40, 20, 500)\n",
        "print(f\"Salary: {manager.calculate_salary()}\")"
      ],
      "metadata": {
        "id": "XsGgDACDNXIU"
      },
      "execution_count": null,
      "outputs": []
    },
    {
      "cell_type": "markdown",
      "source": [
        "### 15. Create a class Product with attributes name, price, and quantity. Implement a method total_price() that calculates the total price of the product."
      ],
      "metadata": {
        "id": "sHn1S9M3Nkj9"
      }
    },
    {
      "cell_type": "code",
      "source": [
        "class Product:\n",
        "    def __init__(self, name, price, quantity):\n",
        "        self.name = name\n",
        "        self.price = price\n",
        "        self.quantity = quantity\n",
        "\n",
        "    def total_price(self):\n",
        "        return self.price * self.quantity\n",
        "\n",
        "product = Product(\"Laptop\", 1000, 3)\n",
        "print(f\"Total Price: {product.total_price()}\")"
      ],
      "metadata": {
        "id": "4RKwKM8vNrs7"
      },
      "execution_count": null,
      "outputs": []
    },
    {
      "cell_type": "markdown",
      "source": [
        "### 16. Create a class Animal with an abstract method sound(). Create two derived classes Cow and Sheep that implement the sound() method."
      ],
      "metadata": {
        "id": "oWq6HWcONycD"
      }
    },
    {
      "cell_type": "code",
      "source": [
        "from abc import ABC, abstractmethod\n",
        "\n",
        "class Animal(ABC):\n",
        "    @abstractmethod\n",
        "    def sound(self):\n",
        "        pass\n",
        "\n",
        "class Cow(Animal):\n",
        "    def sound(self):\n",
        "        print(\"Moo\")\n",
        "\n",
        "class Sheep(Animal):\n",
        "    def sound(self):\n",
        "        print(\"Baa\")\n",
        "\n",
        "cow = Cow()\n",
        "sheep = Sheep()\n",
        "\n",
        "cow.sound()\n",
        "sheep.sound()"
      ],
      "metadata": {
        "id": "nSp7Ek4BN9-b"
      },
      "execution_count": null,
      "outputs": []
    },
    {
      "cell_type": "markdown",
      "source": [
        "### 17. Create a class Book with attributes title, author, and year_published. Add a method get_book_info() that returns a formatted string with the book's details."
      ],
      "metadata": {
        "id": "oPg-b57zOFhS"
      }
    },
    {
      "cell_type": "code",
      "source": [
        "class Book:\n",
        "    def __init__(self, title, author, year_published):\n",
        "        self.title = title\n",
        "        self.author = author\n",
        "        self.year_published = year_published\n",
        "\n",
        "    def get_book_info(self):\n",
        "        return f\"Title: {self.title}, Author: {self.author}, Year: {self.year_published}\"\n",
        "\n",
        "book = Book(\"The Great Gatsby\", \"F. Scott Fitzgerald\", 1925)\n",
        "print(book.get_book_info())"
      ],
      "metadata": {
        "id": "6L9pkGp5OMSz"
      },
      "execution_count": null,
      "outputs": []
    },
    {
      "cell_type": "markdown",
      "source": [
        "### 18. Create a class House with attributes address and price. Create a derived class Mansion that adds an attribute number_of_rooms"
      ],
      "metadata": {
        "id": "FbO35CZOOVkC"
      }
    },
    {
      "cell_type": "code",
      "source": [
        "class House:\n",
        "    def __init__(self, address, price):\n",
        "        self.address = address\n",
        "        self.price = price\n",
        "\n",
        "class Mansion(House):\n",
        "    def __init__(self, address, price, number_of_rooms):\n",
        "        super().__init__(address, price)\n",
        "        self.number_of_rooms = number_of_rooms\n",
        "\n",
        "mansion = Mansion(\"8000011 Grand Plaza\", 1000000, 10)\n",
        "print(f\"Address: {mansion.address}, Price: {mansion.price}, Rooms: {mansion.number_of_rooms}\")"
      ],
      "metadata": {
        "id": "C_Dbr_vTOdCS"
      },
      "execution_count": null,
      "outputs": []
    }
  ]
}